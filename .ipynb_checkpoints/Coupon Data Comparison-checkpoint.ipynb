{
 "cells": [
  {
   "cell_type": "code",
   "execution_count": 1,
   "metadata": {},
   "outputs": [],
   "source": [
    "import pandas as pd\n",
    "import os"
   ]
  },
  {
   "cell_type": "code",
   "execution_count": 2,
   "metadata": {},
   "outputs": [
    {
     "name": "stderr",
     "output_type": "stream",
     "text": [
      "<ipython-input-2-19098178a67d>:1: DtypeWarning: Columns (3,12) have mixed types. Specify dtype option on import or set low_memory=False.\n",
      "  combined_data = pd.read_csv('combined_data.csv')\n"
     ]
    }
   ],
   "source": [
    "combined_data = pd.read_csv('combined_data.csv')"
   ]
  },
  {
   "cell_type": "code",
   "execution_count": 3,
   "metadata": {},
   "outputs": [],
   "source": [
    "combined_data = combined_data.drop(columns = 'Unnamed: 0')"
   ]
  },
  {
   "cell_type": "code",
   "execution_count": 4,
   "metadata": {},
   "outputs": [
    {
     "data": {
      "text/html": [
       "<div>\n",
       "<style scoped>\n",
       "    .dataframe tbody tr th:only-of-type {\n",
       "        vertical-align: middle;\n",
       "    }\n",
       "\n",
       "    .dataframe tbody tr th {\n",
       "        vertical-align: top;\n",
       "    }\n",
       "\n",
       "    .dataframe thead th {\n",
       "        text-align: right;\n",
       "    }\n",
       "</style>\n",
       "<table border=\"1\" class=\"dataframe\">\n",
       "  <thead>\n",
       "    <tr style=\"text-align: right;\">\n",
       "      <th></th>\n",
       "      <th>Card Number</th>\n",
       "      <th>Account Code</th>\n",
       "      <th>Cashier ID</th>\n",
       "      <th>Promotion</th>\n",
       "      <th>Auth Code</th>\n",
       "      <th>13 - $2 Off Butcher Block Sala 13 - Accrued</th>\n",
       "      <th>13 - $2 Off Butcher Block Sala 13 - Redeemed</th>\n",
       "      <th>13 - $2 Off Butcher Block Sala 13 - Balance</th>\n",
       "      <th>1 - Dollars Spent 1 - Accrued</th>\n",
       "      <th>1 - Dollars Spent 1 - Redeemed</th>\n",
       "      <th>...</th>\n",
       "      <th>8 - Comp Dollars 8 - Balance</th>\n",
       "      <th>9 - Points 9 - Accrued</th>\n",
       "      <th>9 - Points 9 - Redeemed</th>\n",
       "      <th>9 - Points 9 - Balance</th>\n",
       "      <th>10 - Visits 10 - Accrued</th>\n",
       "      <th>10 - Visits 10 - Redeemed</th>\n",
       "      <th>10 - Visits 10 - Balance</th>\n",
       "      <th>0 - Stored Value 0 - Accrued</th>\n",
       "      <th>0 - Stored Value 0 - Redeemed</th>\n",
       "      <th>0 - Stored Value 0 - Balance</th>\n",
       "    </tr>\n",
       "  </thead>\n",
       "  <tbody>\n",
       "    <tr>\n",
       "      <th>count</th>\n",
       "      <td>3.427840e+05</td>\n",
       "      <td>3.427840e+05</td>\n",
       "      <td>3.427840e+05</td>\n",
       "      <td>0.0</td>\n",
       "      <td>342784.000000</td>\n",
       "      <td>51974.000000</td>\n",
       "      <td>51974.000000</td>\n",
       "      <td>51974.000000</td>\n",
       "      <td>44713.000000</td>\n",
       "      <td>44713.0</td>\n",
       "      <td>...</td>\n",
       "      <td>0.0</td>\n",
       "      <td>44697.000000</td>\n",
       "      <td>44697.000000</td>\n",
       "      <td>44697.000000</td>\n",
       "      <td>43754.0</td>\n",
       "      <td>43754.0</td>\n",
       "      <td>43754.000000</td>\n",
       "      <td>6196.000000</td>\n",
       "      <td>6196.000000</td>\n",
       "      <td>6196.000000</td>\n",
       "    </tr>\n",
       "    <tr>\n",
       "      <th>mean</th>\n",
       "      <td>8.634597e+16</td>\n",
       "      <td>3.801665e+07</td>\n",
       "      <td>2.767726e+08</td>\n",
       "      <td>NaN</td>\n",
       "      <td>314587.991376</td>\n",
       "      <td>0.495844</td>\n",
       "      <td>-0.494516</td>\n",
       "      <td>0.501828</td>\n",
       "      <td>13.125668</td>\n",
       "      <td>0.0</td>\n",
       "      <td>...</td>\n",
       "      <td>NaN</td>\n",
       "      <td>52.553572</td>\n",
       "      <td>-47.877934</td>\n",
       "      <td>118.931405</td>\n",
       "      <td>1.0</td>\n",
       "      <td>0.0</td>\n",
       "      <td>44.070919</td>\n",
       "      <td>3.182214</td>\n",
       "      <td>-8.212418</td>\n",
       "      <td>9.419645</td>\n",
       "    </tr>\n",
       "    <tr>\n",
       "      <th>std</th>\n",
       "      <td>7.835656e+17</td>\n",
       "      <td>6.725248e+06</td>\n",
       "      <td>3.115306e+08</td>\n",
       "      <td>NaN</td>\n",
       "      <td>332548.269842</td>\n",
       "      <td>0.500141</td>\n",
       "      <td>0.509656</td>\n",
       "      <td>0.501922</td>\n",
       "      <td>9.170266</td>\n",
       "      <td>0.0</td>\n",
       "      <td>...</td>\n",
       "      <td>NaN</td>\n",
       "      <td>36.604246</td>\n",
       "      <td>98.700187</td>\n",
       "      <td>71.620513</td>\n",
       "      <td>0.0</td>\n",
       "      <td>0.0</td>\n",
       "      <td>81.506668</td>\n",
       "      <td>9.794539</td>\n",
       "      <td>7.273761</td>\n",
       "      <td>15.744335</td>\n",
       "    </tr>\n",
       "    <tr>\n",
       "      <th>min</th>\n",
       "      <td>1.741000e+11</td>\n",
       "      <td>3.201321e+07</td>\n",
       "      <td>0.000000e+00</td>\n",
       "      <td>NaN</td>\n",
       "      <td>-1.000000</td>\n",
       "      <td>0.000000</td>\n",
       "      <td>-1.000000</td>\n",
       "      <td>0.000000</td>\n",
       "      <td>-50.970000</td>\n",
       "      <td>0.0</td>\n",
       "      <td>...</td>\n",
       "      <td>NaN</td>\n",
       "      <td>-133.000000</td>\n",
       "      <td>-1000.000000</td>\n",
       "      <td>0.000000</td>\n",
       "      <td>1.0</td>\n",
       "      <td>0.0</td>\n",
       "      <td>1.000000</td>\n",
       "      <td>-30.000000</td>\n",
       "      <td>-56.440000</td>\n",
       "      <td>0.000000</td>\n",
       "    </tr>\n",
       "    <tr>\n",
       "      <th>25%</th>\n",
       "      <td>1.741017e+11</td>\n",
       "      <td>3.292459e+07</td>\n",
       "      <td>0.000000e+00</td>\n",
       "      <td>NaN</td>\n",
       "      <td>1.000000</td>\n",
       "      <td>0.000000</td>\n",
       "      <td>-1.000000</td>\n",
       "      <td>0.000000</td>\n",
       "      <td>7.290000</td>\n",
       "      <td>0.0</td>\n",
       "      <td>...</td>\n",
       "      <td>NaN</td>\n",
       "      <td>29.000000</td>\n",
       "      <td>0.000000</td>\n",
       "      <td>56.000000</td>\n",
       "      <td>1.0</td>\n",
       "      <td>0.0</td>\n",
       "      <td>8.000000</td>\n",
       "      <td>0.000000</td>\n",
       "      <td>-11.862500</td>\n",
       "      <td>0.000000</td>\n",
       "    </tr>\n",
       "    <tr>\n",
       "      <th>50%</th>\n",
       "      <td>1.741038e+11</td>\n",
       "      <td>3.294470e+07</td>\n",
       "      <td>3.202850e+07</td>\n",
       "      <td>NaN</td>\n",
       "      <td>205310.500000</td>\n",
       "      <td>0.000000</td>\n",
       "      <td>0.000000</td>\n",
       "      <td>1.000000</td>\n",
       "      <td>10.780000</td>\n",
       "      <td>0.0</td>\n",
       "      <td>...</td>\n",
       "      <td>NaN</td>\n",
       "      <td>43.000000</td>\n",
       "      <td>0.000000</td>\n",
       "      <td>115.000000</td>\n",
       "      <td>1.0</td>\n",
       "      <td>0.0</td>\n",
       "      <td>20.000000</td>\n",
       "      <td>0.000000</td>\n",
       "      <td>-7.380000</td>\n",
       "      <td>5.480000</td>\n",
       "    </tr>\n",
       "    <tr>\n",
       "      <th>75%</th>\n",
       "      <td>7.410117e+11</td>\n",
       "      <td>4.612036e+07</td>\n",
       "      <td>6.402356e+08</td>\n",
       "      <td>NaN</td>\n",
       "      <td>601755.250000</td>\n",
       "      <td>1.000000</td>\n",
       "      <td>0.000000</td>\n",
       "      <td>1.000000</td>\n",
       "      <td>17.050000</td>\n",
       "      <td>0.0</td>\n",
       "      <td>...</td>\n",
       "      <td>NaN</td>\n",
       "      <td>68.000000</td>\n",
       "      <td>0.000000</td>\n",
       "      <td>180.000000</td>\n",
       "      <td>1.0</td>\n",
       "      <td>0.0</td>\n",
       "      <td>47.000000</td>\n",
       "      <td>0.000000</td>\n",
       "      <td>-2.250000</td>\n",
       "      <td>14.230000</td>\n",
       "    </tr>\n",
       "    <tr>\n",
       "      <th>max</th>\n",
       "      <td>7.993570e+18</td>\n",
       "      <td>4.911428e+07</td>\n",
       "      <td>6.767888e+08</td>\n",
       "      <td>NaN</td>\n",
       "      <td>999995.000000</td>\n",
       "      <td>2.000000</td>\n",
       "      <td>2.000000</td>\n",
       "      <td>4.000000</td>\n",
       "      <td>287.250000</td>\n",
       "      <td>0.0</td>\n",
       "      <td>...</td>\n",
       "      <td>NaN</td>\n",
       "      <td>1149.000000</td>\n",
       "      <td>0.000000</td>\n",
       "      <td>299.000000</td>\n",
       "      <td>1.0</td>\n",
       "      <td>0.0</td>\n",
       "      <td>954.000000</td>\n",
       "      <td>200.000000</td>\n",
       "      <td>25.000000</td>\n",
       "      <td>249.910000</td>\n",
       "    </tr>\n",
       "  </tbody>\n",
       "</table>\n",
       "<p>8 rows × 47 columns</p>\n",
       "</div>"
      ],
      "text/plain": [
       "        Card Number  Account Code    Cashier ID  Promotion      Auth Code  \\\n",
       "count  3.427840e+05  3.427840e+05  3.427840e+05        0.0  342784.000000   \n",
       "mean   8.634597e+16  3.801665e+07  2.767726e+08        NaN  314587.991376   \n",
       "std    7.835656e+17  6.725248e+06  3.115306e+08        NaN  332548.269842   \n",
       "min    1.741000e+11  3.201321e+07  0.000000e+00        NaN      -1.000000   \n",
       "25%    1.741017e+11  3.292459e+07  0.000000e+00        NaN       1.000000   \n",
       "50%    1.741038e+11  3.294470e+07  3.202850e+07        NaN  205310.500000   \n",
       "75%    7.410117e+11  4.612036e+07  6.402356e+08        NaN  601755.250000   \n",
       "max    7.993570e+18  4.911428e+07  6.767888e+08        NaN  999995.000000   \n",
       "\n",
       "       13 - $2 Off Butcher Block Sala 13 - Accrued  \\\n",
       "count                                 51974.000000   \n",
       "mean                                      0.495844   \n",
       "std                                       0.500141   \n",
       "min                                       0.000000   \n",
       "25%                                       0.000000   \n",
       "50%                                       0.000000   \n",
       "75%                                       1.000000   \n",
       "max                                       2.000000   \n",
       "\n",
       "       13 - $2 Off Butcher Block Sala 13 - Redeemed  \\\n",
       "count                                  51974.000000   \n",
       "mean                                      -0.494516   \n",
       "std                                        0.509656   \n",
       "min                                       -1.000000   \n",
       "25%                                       -1.000000   \n",
       "50%                                        0.000000   \n",
       "75%                                        0.000000   \n",
       "max                                        2.000000   \n",
       "\n",
       "       13 - $2 Off Butcher Block Sala 13 - Balance  \\\n",
       "count                                 51974.000000   \n",
       "mean                                      0.501828   \n",
       "std                                       0.501922   \n",
       "min                                       0.000000   \n",
       "25%                                       0.000000   \n",
       "50%                                       1.000000   \n",
       "75%                                       1.000000   \n",
       "max                                       4.000000   \n",
       "\n",
       "       1 - Dollars Spent 1 - Accrued  1 - Dollars Spent 1 - Redeemed  ...  \\\n",
       "count                   44713.000000                         44713.0  ...   \n",
       "mean                       13.125668                             0.0  ...   \n",
       "std                         9.170266                             0.0  ...   \n",
       "min                       -50.970000                             0.0  ...   \n",
       "25%                         7.290000                             0.0  ...   \n",
       "50%                        10.780000                             0.0  ...   \n",
       "75%                        17.050000                             0.0  ...   \n",
       "max                       287.250000                             0.0  ...   \n",
       "\n",
       "       8 - Comp Dollars 8 - Balance  9 - Points 9 - Accrued  \\\n",
       "count                           0.0            44697.000000   \n",
       "mean                            NaN               52.553572   \n",
       "std                             NaN               36.604246   \n",
       "min                             NaN             -133.000000   \n",
       "25%                             NaN               29.000000   \n",
       "50%                             NaN               43.000000   \n",
       "75%                             NaN               68.000000   \n",
       "max                             NaN             1149.000000   \n",
       "\n",
       "       9 - Points 9 - Redeemed  9 - Points 9 - Balance  \\\n",
       "count             44697.000000            44697.000000   \n",
       "mean                -47.877934              118.931405   \n",
       "std                  98.700187               71.620513   \n",
       "min               -1000.000000                0.000000   \n",
       "25%                   0.000000               56.000000   \n",
       "50%                   0.000000              115.000000   \n",
       "75%                   0.000000              180.000000   \n",
       "max                   0.000000              299.000000   \n",
       "\n",
       "       10 - Visits 10 - Accrued  10 - Visits 10 - Redeemed  \\\n",
       "count                   43754.0                    43754.0   \n",
       "mean                        1.0                        0.0   \n",
       "std                         0.0                        0.0   \n",
       "min                         1.0                        0.0   \n",
       "25%                         1.0                        0.0   \n",
       "50%                         1.0                        0.0   \n",
       "75%                         1.0                        0.0   \n",
       "max                         1.0                        0.0   \n",
       "\n",
       "       10 - Visits 10 - Balance  0 - Stored Value 0 - Accrued  \\\n",
       "count              43754.000000                   6196.000000   \n",
       "mean                  44.070919                      3.182214   \n",
       "std                   81.506668                      9.794539   \n",
       "min                    1.000000                    -30.000000   \n",
       "25%                    8.000000                      0.000000   \n",
       "50%                   20.000000                      0.000000   \n",
       "75%                   47.000000                      0.000000   \n",
       "max                  954.000000                    200.000000   \n",
       "\n",
       "       0 - Stored Value 0 - Redeemed  0 - Stored Value 0 - Balance  \n",
       "count                    6196.000000                   6196.000000  \n",
       "mean                       -8.212418                      9.419645  \n",
       "std                         7.273761                     15.744335  \n",
       "min                       -56.440000                      0.000000  \n",
       "25%                       -11.862500                      0.000000  \n",
       "50%                        -7.380000                      5.480000  \n",
       "75%                        -2.250000                     14.230000  \n",
       "max                        25.000000                    249.910000  \n",
       "\n",
       "[8 rows x 47 columns]"
      ]
     },
     "execution_count": 4,
     "metadata": {},
     "output_type": "execute_result"
    }
   ],
   "source": [
    "combined_data.describe()"
   ]
  },
  {
   "cell_type": "code",
   "execution_count": 5,
   "metadata": {},
   "outputs": [],
   "source": [
    "all_columns = combined_data.columns.to_list()\n",
    "numerical_columns = combined_data.describe().columns.to_list()\n",
    "categorical_columns = []\n",
    "for column in all_columns:\n",
    "    if column not in numerical_columns:\n",
    "        categorical_columns.append(column)"
   ]
  },
  {
   "cell_type": "code",
   "execution_count": 6,
   "metadata": {},
   "outputs": [],
   "source": [
    "info_list = categorical_columns.copy()\n",
    "\n",
    "for column in numerical_columns:\n",
    "    if combined_data.describe().loc['count',column] != float(0):\n",
    "        info_list.append(column)"
   ]
  },
  {
   "cell_type": "code",
   "execution_count": 7,
   "metadata": {},
   "outputs": [],
   "source": [
    "loyal_trans = combined_data.loc[:, info_list]"
   ]
  },
  {
   "cell_type": "code",
   "execution_count": 8,
   "metadata": {},
   "outputs": [],
   "source": [
    "loyal_trans = loyal_trans[loyal_trans['Card Template'] == 'Loyalty']"
   ]
  },
  {
   "cell_type": "code",
   "execution_count": 9,
   "metadata": {},
   "outputs": [],
   "source": [
    "loyal_trans = loyal_trans.drop(columns = ['Store Merchant','Wallet Type','Terminal ID','Identification Method',\n",
    "                                          'Account Status','Sender','Auth Code'])"
   ]
  },
  {
   "cell_type": "code",
   "execution_count": 10,
   "metadata": {},
   "outputs": [],
   "source": [
    "loyal_trans['Transaction Time'] = loyal_trans['Transaction Date'].map(lambda x : x[-5:])\n",
    "loyal_trans['Transaction Date'] = loyal_trans['Transaction Date'].map(lambda x : x[:-5])"
   ]
  },
  {
   "cell_type": "code",
   "execution_count": 11,
   "metadata": {},
   "outputs": [],
   "source": [
    "partial_data = loyal_trans[loyal_trans['Transaction Type'] != 'Campaign Expiration'].loc[:, ['13 - $2 Off Butcher Block Sala 13 - Redeemed',\n",
    "                                                                                            '2 - $3 Signup Reward 2 - Redeemed',\n",
    "                                                                                            '11 - Free Regular Fry 11 - Redeemed',\n",
    "                                                                                            '4 - Free Original Concrete 4 - Redeemed',\n",
    "                                                                                            '5 - $2 Off Soup Bowl 5 - Redeemed']]"
   ]
  },
  {
   "cell_type": "code",
   "execution_count": 12,
   "metadata": {},
   "outputs": [],
   "source": [
    "partial_data['13 - $2 Off Butcher Block Sala 13 - Redeemed'] = partial_data['13 - $2 Off Butcher Block Sala 13 - Redeemed'].map(lambda x : abs(x) if x < 0 else 0)\n",
    "partial_data['2 - $3 Signup Reward 2 - Redeemed'] = partial_data['2 - $3 Signup Reward 2 - Redeemed'].map(lambda x : abs(x) if x < 0 else 0)\n",
    "partial_data['11 - Free Regular Fry 11 - Redeemed'] = partial_data['11 - Free Regular Fry 11 - Redeemed'].map(lambda x : abs(x) if x < 0 else 0)\n",
    "partial_data['4 - Free Original Concrete 4 - Redeemed'] = partial_data['4 - Free Original Concrete 4 - Redeemed'].map(lambda x : abs(x) if x < 0 else 0)\n",
    "partial_data['5 - $2 Off Soup Bowl 5 - Redeemed'] = partial_data['5 - $2 Off Soup Bowl 5 - Redeemed'].map(lambda x : abs(x) if x < 0 else 0)"
   ]
  },
  {
   "cell_type": "code",
   "execution_count": 30,
   "metadata": {},
   "outputs": [],
   "source": [
    "partial_data = partial_data.rename(columns={'13 - $2 Off Butcher Block Sala 13 - Redeemed':'$2 Off Butcher Block Sala',\n",
    "                            '2 - $3 Signup Reward 2 - Redeemed':'$3 Signup Reward',\n",
    "                            '11 - Free Regular Fry 11 - Redeemed':'Free Regular Fry',\n",
    "                            '4 - Free Original Concrete 4 - Redeemed':'Free Original Concrete',\n",
    "                            '5 - $2 Off Soup Bowl 5 - Redeemed':'$2 Off Soup Bowl'})"
   ]
  },
  {
   "cell_type": "code",
   "execution_count": 31,
   "metadata": {},
   "outputs": [
    {
     "data": {
      "text/html": [
       "<div>\n",
       "<style scoped>\n",
       "    .dataframe tbody tr th:only-of-type {\n",
       "        vertical-align: middle;\n",
       "    }\n",
       "\n",
       "    .dataframe tbody tr th {\n",
       "        vertical-align: top;\n",
       "    }\n",
       "\n",
       "    .dataframe thead th {\n",
       "        text-align: right;\n",
       "    }\n",
       "</style>\n",
       "<table border=\"1\" class=\"dataframe\">\n",
       "  <thead>\n",
       "    <tr style=\"text-align: right;\">\n",
       "      <th></th>\n",
       "      <th>$2 Off Butcher Block Sala</th>\n",
       "      <th>$3 Signup Reward</th>\n",
       "      <th>Free Regular Fry</th>\n",
       "      <th>Free Original Concrete</th>\n",
       "      <th>$2 Off Soup Bowl</th>\n",
       "    </tr>\n",
       "  </thead>\n",
       "  <tbody>\n",
       "    <tr>\n",
       "      <th>count</th>\n",
       "      <td>274120.000000</td>\n",
       "      <td>274120.000000</td>\n",
       "      <td>274120.000000</td>\n",
       "      <td>274120.000000</td>\n",
       "      <td>274120.000000</td>\n",
       "    </tr>\n",
       "    <tr>\n",
       "      <th>mean</th>\n",
       "      <td>0.001164</td>\n",
       "      <td>0.003148</td>\n",
       "      <td>0.000029</td>\n",
       "      <td>0.003856</td>\n",
       "      <td>0.000051</td>\n",
       "    </tr>\n",
       "    <tr>\n",
       "      <th>std</th>\n",
       "      <td>0.034094</td>\n",
       "      <td>0.056021</td>\n",
       "      <td>0.005402</td>\n",
       "      <td>0.061977</td>\n",
       "      <td>0.007146</td>\n",
       "    </tr>\n",
       "    <tr>\n",
       "      <th>min</th>\n",
       "      <td>0.000000</td>\n",
       "      <td>0.000000</td>\n",
       "      <td>0.000000</td>\n",
       "      <td>0.000000</td>\n",
       "      <td>0.000000</td>\n",
       "    </tr>\n",
       "    <tr>\n",
       "      <th>25%</th>\n",
       "      <td>0.000000</td>\n",
       "      <td>0.000000</td>\n",
       "      <td>0.000000</td>\n",
       "      <td>0.000000</td>\n",
       "      <td>0.000000</td>\n",
       "    </tr>\n",
       "    <tr>\n",
       "      <th>50%</th>\n",
       "      <td>0.000000</td>\n",
       "      <td>0.000000</td>\n",
       "      <td>0.000000</td>\n",
       "      <td>0.000000</td>\n",
       "      <td>0.000000</td>\n",
       "    </tr>\n",
       "    <tr>\n",
       "      <th>75%</th>\n",
       "      <td>0.000000</td>\n",
       "      <td>0.000000</td>\n",
       "      <td>0.000000</td>\n",
       "      <td>0.000000</td>\n",
       "      <td>0.000000</td>\n",
       "    </tr>\n",
       "    <tr>\n",
       "      <th>max</th>\n",
       "      <td>1.000000</td>\n",
       "      <td>1.000000</td>\n",
       "      <td>1.000000</td>\n",
       "      <td>1.000000</td>\n",
       "      <td>1.000000</td>\n",
       "    </tr>\n",
       "  </tbody>\n",
       "</table>\n",
       "</div>"
      ],
      "text/plain": [
       "       $2 Off Butcher Block Sala  $3 Signup Reward  Free Regular Fry  \\\n",
       "count              274120.000000     274120.000000     274120.000000   \n",
       "mean                    0.001164          0.003148          0.000029   \n",
       "std                     0.034094          0.056021          0.005402   \n",
       "min                     0.000000          0.000000          0.000000   \n",
       "25%                     0.000000          0.000000          0.000000   \n",
       "50%                     0.000000          0.000000          0.000000   \n",
       "75%                     0.000000          0.000000          0.000000   \n",
       "max                     1.000000          1.000000          1.000000   \n",
       "\n",
       "       Free Original Concrete  $2 Off Soup Bowl  \n",
       "count           274120.000000     274120.000000  \n",
       "mean                 0.003856          0.000051  \n",
       "std                  0.061977          0.007146  \n",
       "min                  0.000000          0.000000  \n",
       "25%                  0.000000          0.000000  \n",
       "50%                  0.000000          0.000000  \n",
       "75%                  0.000000          0.000000  \n",
       "max                  1.000000          1.000000  "
      ]
     },
     "execution_count": 31,
     "metadata": {},
     "output_type": "execute_result"
    }
   ],
   "source": [
    "partial_data.describe()"
   ]
  },
  {
   "cell_type": "code",
   "execution_count": 40,
   "metadata": {},
   "outputs": [
    {
     "data": {
      "text/plain": [
       "$2 Off Butcher Block Sala     319.0\n",
       "$3 Signup Reward              863.0\n",
       "Free Regular Fry                8.0\n",
       "Free Original Concrete       1057.0\n",
       "$2 Off Soup Bowl               14.0\n",
       "dtype: float64"
      ]
     },
     "execution_count": 40,
     "metadata": {},
     "output_type": "execute_result"
    }
   ],
   "source": [
    "#total redeemed number for each coupon\n",
    "partial_data.sum()"
   ]
  },
  {
   "cell_type": "code",
   "execution_count": 33,
   "metadata": {},
   "outputs": [
    {
     "data": {
      "text/plain": [
       "36283"
      ]
     },
     "execution_count": 33,
     "metadata": {},
     "output_type": "execute_result"
    }
   ],
   "source": [
    "len(loyal_trans['Card Number'].unique())"
   ]
  },
  {
   "cell_type": "code",
   "execution_count": 34,
   "metadata": {},
   "outputs": [
    {
     "data": {
      "text/plain": [
       "$2 Off Butcher Block Sala    0.008792\n",
       "$3 Signup Reward             0.023785\n",
       "Free Regular Fry             0.000220\n",
       "Free Original Concrete       0.029132\n",
       "$2 Off Soup Bowl             0.000386\n",
       "dtype: float64"
      ]
     },
     "execution_count": 34,
     "metadata": {},
     "output_type": "execute_result"
    }
   ],
   "source": [
    "#utilization/response rate for each coupon\n",
    "partial_data.sum()/len(loyal_trans['Card Number'].unique())"
   ]
  },
  {
   "cell_type": "code",
   "execution_count": 37,
   "metadata": {},
   "outputs": [],
   "source": [
    "import matplotlib.pyplot as plt"
   ]
  },
  {
   "cell_type": "code",
   "execution_count": 42,
   "metadata": {},
   "outputs": [
    {
     "data": {
      "text/plain": [
       "Text(0, 0.5, 'Utilization Rate within 3-months')"
      ]
     },
     "execution_count": 42,
     "metadata": {},
     "output_type": "execute_result"
    },
    {
     "data": {
      "image/png": "[encoded data removed]",
      "text/plain": [
       "<Figure size 864x504 with 1 Axes>"
      ]
     },
     "metadata": {
      "needs_background": "light"
     },
     "output_type": "display_data"
    }
   ],
   "source": [
    "fig, ax = plt.subplots(figsize=(12, 7))\n",
    "ax.bar(partial_data.columns, partial_data.sum()/len(loyal_trans['Card Number'].unique()))\n",
    "ax.set_xlabel(\"Coupons\")\n",
    "ax.set_ylabel(\"Utilization Rate within 3-months\")"
   ]
  }
 ],
 "metadata": {
  "kernelspec": {
   "display_name": "Python 3",
   "language": "python",
   "name": "python3"
  },
  "language_info": {
   "codemirror_mode": {
    "name": "ipython",
    "version": 3
   },
   "file_extension": ".py",
   "mimetype": "text/x-python",
   "name": "python",
   "nbconvert_exporter": "python",
   "pygments_lexer": "ipython3",
   "version": "3.8.8"
  }
 },
 "nbformat": 4,
 "nbformat_minor": 4
}
